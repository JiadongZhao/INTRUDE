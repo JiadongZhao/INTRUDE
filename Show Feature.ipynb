{
 "cells": [
  {
   "cell_type": "code",
   "execution_count": 3,
   "metadata": {},
   "outputs": [
    {
     "name": "stdout",
     "output_type": "stream",
     "text": [
      "init nlp model with dotnet/corefx data!\n",
      "model already exists!\n",
      "init nlp model for text successfully!\n",
      "model already exists!\n",
      "init nlp model for code successfully!\n",
      "0.92\t0.00\t1.00\t1.00\t1.00\t1.00\t1.00\t1.00\t0.00\t0.72\n",
      "-1\n"
     ]
    }
   ],
   "source": [
    "import clf\n",
    "import git\n",
    "import comp\n",
    "\n",
    "str = \"dotnet/corefx 14667 14549\"\n",
    "r, n1, n2 = str.split()\n",
    "clf.init_model_with_repo(r)\n",
    "feature_vector = clf.get_sim(r, n1, n2)\n",
    "\n",
    "print(\"\\t\".join([\"%.2f\" % x for x in feature_vector]))\n",
    "\n",
    "print(comp.check_version_numbers(git.get_pull(r, n1), git.get_pull(r, n2)))\n"
   ]
  },
  {
   "cell_type": "code",
   "execution_count": null,
   "metadata": {},
   "outputs": [],
   "source": []
  }
 ],
 "metadata": {
  "kernelspec": {
   "display_name": "Python 3",
   "language": "python",
   "name": "python3"
  },
  "language_info": {
   "codemirror_mode": {
    "name": "ipython",
    "version": 3
   },
   "file_extension": ".py",
   "mimetype": "text/x-python",
   "name": "python",
   "nbconvert_exporter": "python",
   "pygments_lexer": "ipython3",
   "version": "3.6.5"
  }
 },
 "nbformat": 4,
 "nbformat_minor": 2
}
