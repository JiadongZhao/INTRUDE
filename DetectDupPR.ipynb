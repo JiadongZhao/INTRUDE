{
 "cells": [
  {
   "cell_type": "markdown",
   "metadata": {},
   "source": [
    "# Detect duplicate pr"
   ]
  },
  {
   "cell_type": "code",
   "execution_count": null,
   "metadata": {},
   "outputs": [
    {
     "name": "stdout",
     "output_type": "stream",
     "text": [
      "text_sim_type = lsi\n",
      "code_sim_type = tfidf\n",
      "extract_sim_type = ori_and_overlap\n",
      "Model Data Save Path =  ok_text_lsi_code_tfidf_ori_and_overlap__commit_message\n",
      "--------------------------\n",
      "Loading Data\n",
      "Model Data Input= data/clf/first_msr_pairs.txt\n",
      "warning: feature vector already exists! data/clf/first_msr_pairs_feature_vector_ok_text_lsi_code_tfidf_ori_and_overlap__commit_message\n",
      "Model Data Input= data/clf/second_msr_pairs.txt\n",
      "warning: feature vector already exists! data/clf/second_msr_pairs_feature_vector_ok_text_lsi_code_tfidf_ori_and_overlap__commit_message\n",
      "Model Data Input= data/clf/consecutive_NonDupPR_pairs_training.txt\n",
      "warning: feature vector already exists! data/clf/consecutive_NonDupPR_pairs_training_feature_vector_ok_text_lsi_code_tfidf_ori_and_overlap__commit_message\n",
      "Model Data Input= data/clf/consecutive_NonDupPR_pairs_testing.txt\n",
      "warning: feature vector already exists! data/clf/consecutive_NonDupPR_pairs_testing_feature_vector_ok_text_lsi_code_tfidf_ori_and_overlap__commit_message\n",
      "--------------------------\n",
      "Size of Dataset: training_set 103293 testing_set 105431 feature_length= 10\n",
      "------ model:  boost ------\n",
      "n_estimators: 400 max_depth: 3\n",
      "0.9907350993600483\n",
      "Mean Accuracy: 0.9911316405990648\n",
      "Average precision score: 0.5494\n",
      "F1 score: 0.5701\n",
      "0.9911316405990648\t0.5494427714202064\t0.5701149425287355\n"
     ]
    },
    {
     "data": {
      "text/plain": [
       "<Figure size 640x480 with 1 Axes>"
      ]
     },
     "metadata": {},
     "output_type": "display_data"
    },
    {
     "data": {
      "text/plain": [
       "<Figure size 640x480 with 1 Axes>"
      ]
     },
     "metadata": {},
     "output_type": "display_data"
    },
    {
     "name": "stdout",
     "output_type": "stream",
     "text": [
      "get open PRs from repo: jquery/jquery\n",
      "/DATA/luyao/PRCandidate/candidate_jquery.jquery.txt\n",
      "length : 5\n",
      "analyzing  jquery/jquery 4406\n",
      "init nlp model with jquery/jquery data!\n",
      "model already exists!\n",
      "init nlp model for text successfully!\n",
      "model already exists!\n",
      "init nlp model for code successfully!\n",
      "get all 2499  prs for repo jquery/jquery\n",
      "get pr 4406\n",
      "compare 4406 4415\n",
      "compare 4406 4414\n",
      "compare 4406 4406\n",
      "compare 4406 4405\n",
      "https://api.github.com/repos/jquery/jquery/pulls/4406/commits\n",
      "403 retry..\n",
      "https://api.github.com/repos/jquery/jquery/pulls/4406/commits\n",
      "403 retry..\n",
      "https://api.github.com/repos/jquery/jquery/pulls/4406/commits\n",
      "403 retry..\n",
      "https://api.github.com/repos/jquery/jquery/pulls/4406/commits\n",
      "403 retry..\n",
      "https://api.github.com/repos/jquery/jquery/pulls/4406/commits\n",
      "403 retry..\n",
      "https://api.github.com/repos/jquery/jquery/pulls/4406/commits\n",
      "403 retry..\n",
      "https://api.github.com/repos/jquery/jquery/pulls/4406/commits\n",
      "403 retry..\n",
      "https://api.github.com/repos/jquery/jquery/pulls/4406/commits\n",
      "403 retry..\n",
      "https://api.github.com/repos/jquery/jquery/pulls/4406/commits\n",
      "403 retry..\n",
      "https://api.github.com/repos/jquery/jquery/pulls/4406/commits\n",
      "403 retry..\n",
      "https://api.github.com/repos/jquery/jquery/pulls/4406/commits\n",
      "403 retry..\n",
      "https://api.github.com/repos/jquery/jquery/pulls/4406/commits\n",
      "403 retry..\n",
      "https://api.github.com/repos/jquery/jquery/pulls/4406/commits\n",
      "403 retry..\n",
      "https://api.github.com/repos/jquery/jquery/pulls/4406/commits\n",
      "403 retry..\n",
      "https://api.github.com/repos/jquery/jquery/pulls/4406/commits\n",
      "403 retry..\n",
      "https://api.github.com/repos/jquery/jquery/pulls/4406/commits\n",
      "403 retry..\n",
      "https://api.github.com/repos/jquery/jquery/pulls/4406/commits\n",
      "403 retry..\n",
      "https://api.github.com/repos/jquery/jquery/pulls/4406/commits\n",
      "403 retry..\n",
      "https://api.github.com/repos/jquery/jquery/pulls/4406/commits\n",
      "403 retry..\n",
      "https://api.github.com/repos/jquery/jquery/pulls/4406/commits\n",
      "403 retry..\n",
      "https://api.github.com/repos/jquery/jquery/pulls/4406/commits\n",
      "403 retry..\n",
      "https://api.github.com/repos/jquery/jquery/pulls/4406/commits\n",
      "403 retry..\n",
      "compare 4406 4400\n",
      "https://api.github.com/repos/jquery/jquery/pulls/4406/commits\n",
      "403 retry..\n",
      "compare 4406 4399\n",
      "compare 4406 4395\n",
      "compare 4406 4390\n",
      "compare 4406 4389\n",
      "compare 4406 4388\n",
      "https://api.github.com/repos/jquery/jquery/pulls/4406/commits\n",
      "403 retry..\n",
      "compare 4406 4387\n",
      "compare 4406 4385\n",
      "compare 4406 4381\n",
      "compare 4406 4380\n",
      "compare 4406 4379\n",
      "compare 4406 4375\n",
      "compare 4406 4373\n",
      "compare 4406 4369\n",
      "compare 4406 4365\n",
      "compare 4406 4364\n",
      "compare 4406 4362\n",
      "compare 4406 4361\n",
      "compare 4406 4360\n",
      "compare 4406 4357\n",
      "https://api.github.com/repos/jquery/jquery/pulls/4406/commits\n",
      "403 retry..\n",
      "compare 4406 4354\n",
      "compare 4406 4353\n",
      "compare 4406 4352\n",
      "https://api.github.com/repos/jquery/jquery/pulls/4406/commits\n",
      "403 retry..\n",
      "https://api.github.com/repos/jquery/jquery/pulls/4406/commits\n",
      "403 retry..\n"
     ]
    }
   ],
   "source": [
    "%run -i 'detectDuplicatePR.py'"
   ]
  },
  {
   "cell_type": "code",
   "execution_count": null,
   "metadata": {},
   "outputs": [],
   "source": []
  },
  {
   "cell_type": "code",
   "execution_count": null,
   "metadata": {},
   "outputs": [],
   "source": []
  }
 ],
 "metadata": {
  "kernelspec": {
   "display_name": "Python 3",
   "language": "python",
   "name": "python3"
  },
  "language_info": {
   "codemirror_mode": {
    "name": "ipython",
    "version": 3
   },
   "file_extension": ".py",
   "mimetype": "text/x-python",
   "name": "python",
   "nbconvert_exporter": "python",
   "pygments_lexer": "ipython3",
   "version": "3.4.3"
  }
 },
 "nbformat": 4,
 "nbformat_minor": 2
}
