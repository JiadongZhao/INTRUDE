{
 "cells": [
  {
   "cell_type": "markdown",
   "metadata": {},
   "source": [
    "# Detect duplicate pr"
   ]
  },
  {
   "cell_type": "code",
   "execution_count": null,
   "metadata": {},
   "outputs": [
    {
     "name": "stdout",
     "output_type": "stream",
     "text": [
      "monitored_repoList_filePath:data/test_repo_list.txt\n",
      "LOCAL_DATA_PATH:/DATA/luyao\n",
      "PR_candidate_List_filePath_prefix:/DATA/luyao/PRCandidate/candidate_\n",
      "LOCAL_DATA_PATH:/DATA/luyao\n",
      "text_sim_type = lsi\n",
      "code_sim_type = tfidf\n",
      "extract_sim_type = ori_and_overlap\n",
      "Model Data Save Path =  ok_text_lsi_code_tfidf_ori_and_overlap__commit_message\n",
      "--------------------------\n",
      "Loading Data\n",
      "Model Data Input= data/clf/first_msr_pairs.txt\n",
      "warning: feature vector already exists! data/clf/first_msr_pairs_feature_vector_ok_text_lsi_code_tfidf_ori_and_overlap__commit_message\n",
      "Model Data Input= data/clf/second_msr_pairs.txt\n",
      "warning: feature vector already exists! data/clf/second_msr_pairs_feature_vector_ok_text_lsi_code_tfidf_ori_and_overlap__commit_message\n",
      "Model Data Input= data/clf/consecutive_NonDupPR_pairs_training.txt\n",
      "warning: feature vector already exists! data/clf/consecutive_NonDupPR_pairs_training_feature_vector_ok_text_lsi_code_tfidf_ori_and_overlap__commit_message\n",
      "Model Data Input= data/clf/consecutive_NonDupPR_pairs_testing.txt\n",
      "warning: feature vector already exists! data/clf/consecutive_NonDupPR_pairs_testing_feature_vector_ok_text_lsi_code_tfidf_ori_and_overlap__commit_message\n",
      "--------------------------\n",
      "Size of Dataset: training_set 103293 testing_set 105431 feature_length= 10\n",
      "------ model:  boost ------\n",
      "n_estimators: 400 max_depth: 3\n",
      "0.9907350993600483\n",
      "Mean Accuracy: 0.9911316405990648\n",
      "Average precision score: 0.5494\n",
      "F1 score: 0.5701\n",
      "0.9911316405990648\t0.5494427714202064\t0.5701149425287355\n"
     ]
    },
    {
     "data": {
      "text/plain": [
       "<Figure size 640x480 with 1 Axes>"
      ]
     },
     "metadata": {},
     "output_type": "display_data"
    },
    {
     "data": {
      "text/plain": [
       "<Figure size 640x480 with 1 Axes>"
      ]
     },
     "metadata": {},
     "output_type": "display_data"
    },
    {
     "name": "stdout",
     "output_type": "stream",
     "text": [
      "jquery/jquery\n",
      "/DATA/luyao/PRCandidate/candidate_jquery.jquery.txt\n",
      "start fetch new list for  jquery/jquery pull\n"
     ]
    }
   ],
   "source": [
    "%run -i 'detectDuplicatePR.py'"
   ]
  },
  {
   "cell_type": "code",
   "execution_count": null,
   "metadata": {},
   "outputs": [],
   "source": []
  },
  {
   "cell_type": "code",
   "execution_count": null,
   "metadata": {},
   "outputs": [],
   "source": []
  }
 ],
 "metadata": {
  "kernelspec": {
   "display_name": "Python 3",
   "language": "python",
   "name": "python3"
  },
  "language_info": {
   "codemirror_mode": {
    "name": "ipython",
    "version": 3
   },
   "file_extension": ".py",
   "mimetype": "text/x-python",
   "name": "python",
   "nbconvert_exporter": "python",
   "pygments_lexer": "ipython3",
   "version": "3.4.3"
  }
 },
 "nbformat": 4,
 "nbformat_minor": 2
}
