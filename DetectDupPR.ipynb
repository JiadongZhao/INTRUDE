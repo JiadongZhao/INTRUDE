{
 "cells": [
  {
   "cell_type": "markdown",
   "metadata": {},
   "source": [
    "# Detect duplicate pr"
   ]
  },
  {
   "cell_type": "code",
   "execution_count": null,
   "metadata": {},
   "outputs": [
    {
     "name": "stdout",
     "output_type": "stream",
     "text": [
      "text_sim_type = lsi\n",
      "code_sim_type = tfidf\n",
      "extract_sim_type = ori_and_overlap\n",
      "Model Data Save Path =  ok_text_lsi_code_tfidf_ori_and_overlap__commit_message\n",
      "--------------------------\n",
      "Loading Data\n",
      "Model Data Input= data/clf/first_msr_pairs.txt\n",
      "warning: feature vector already exists! data/clf/first_msr_pairs_feature_vector_ok_text_lsi_code_tfidf_ori_and_overlap__commit_message\n",
      "Model Data Input= data/clf/second_msr_pairs.txt\n",
      "warning: feature vector already exists! data/clf/second_msr_pairs_feature_vector_ok_text_lsi_code_tfidf_ori_and_overlap__commit_message\n",
      "Model Data Input= data/clf/consecutive_NonDupPR_pairs_training.txt\n",
      "warning: feature vector already exists! data/clf/consecutive_NonDupPR_pairs_training_feature_vector_ok_text_lsi_code_tfidf_ori_and_overlap__commit_message\n",
      "Model Data Input= data/clf/consecutive_NonDupPR_pairs_testing.txt\n",
      "warning: feature vector already exists! data/clf/consecutive_NonDupPR_pairs_testing_feature_vector_ok_text_lsi_code_tfidf_ori_and_overlap__commit_message\n",
      "--------------------------\n",
      "Size of Dataset: training_set 103293 testing_set 105431 feature_length= 10\n",
      "------ model:  boost ------\n",
      "n_estimators: 400 max_depth: 3\n",
      "0.9907350993600483\n",
      "Mean Accuracy: 0.9911316405990648\n",
      "Average precision score: 0.5494\n",
      "F1 score: 0.5701\n",
      "0.9911316405990648\t0.5494427714202064\t0.5701149425287355\n"
     ]
    },
    {
     "data": {
      "text/plain": [
       "<Figure size 640x480 with 1 Axes>"
      ]
     },
     "metadata": {},
     "output_type": "display_data"
    },
    {
     "data": {
      "text/plain": [
       "<Figure size 640x480 with 1 Axes>"
      ]
     },
     "metadata": {},
     "output_type": "display_data"
    },
    {
     "name": "stdout",
     "output_type": "stream",
     "text": [
      "get open PRs from repo: twbs/bootstrap\n",
      "/DATA/luyao/PRCandidate/candidate_twbs.bootstrap.txt\n",
      "start fetch new list for  twbs/bootstrap pull\n",
      "https://api.github.com/repos/twbs/bootstrap/pulls?page=1&per_page=100&state=all\n",
      "https://api.github.com/repos/twbs/bootstrap/pulls?page=2&per_page=100&state=all\n",
      "https://api.github.com/repos/twbs/bootstrap/pulls?page=3&per_page=100&state=all\n",
      "https://api.github.com/repos/twbs/bootstrap/pulls?page=4&per_page=100&state=all\n",
      "https://api.github.com/repos/twbs/bootstrap/pulls?page=5&per_page=100&state=all\n",
      "https://api.github.com/repos/twbs/bootstrap/pulls?page=6&per_page=100&state=all\n",
      "https://api.github.com/repos/twbs/bootstrap/pulls?page=7&per_page=100&state=all\n",
      "https://api.github.com/repos/twbs/bootstrap/pulls?page=8&per_page=100&state=all\n",
      "https://api.github.com/repos/twbs/bootstrap/pulls?page=9&per_page=100&state=all\n",
      "https://api.github.com/repos/twbs/bootstrap/pulls?page=10&per_page=100&state=all\n",
      "https://api.github.com/repos/twbs/bootstrap/pulls?page=11&per_page=100&state=all\n",
      "https://api.github.com/repos/twbs/bootstrap/pulls?page=12&per_page=100&state=all\n",
      "https://api.github.com/repos/twbs/bootstrap/pulls?page=13&per_page=100&state=all\n",
      "https://api.github.com/repos/twbs/bootstrap/pulls?page=14&per_page=100&state=all\n",
      "https://api.github.com/repos/twbs/bootstrap/pulls?page=15&per_page=100&state=all\n",
      "https://api.github.com/repos/twbs/bootstrap/pulls?page=16&per_page=100&state=all\n",
      "https://api.github.com/repos/twbs/bootstrap/pulls?page=17&per_page=100&state=all\n",
      "https://api.github.com/repos/twbs/bootstrap/pulls?page=18&per_page=100&state=all\n",
      "https://api.github.com/repos/twbs/bootstrap/pulls?page=19&per_page=100&state=all\n",
      "https://api.github.com/repos/twbs/bootstrap/pulls?page=20&per_page=100&state=all\n",
      "https://api.github.com/repos/twbs/bootstrap/pulls?page=21&per_page=100&state=all\n",
      "https://api.github.com/repos/twbs/bootstrap/pulls?page=22&per_page=100&state=all\n",
      "https://api.github.com/repos/twbs/bootstrap/pulls?page=23&per_page=100&state=all\n",
      "https://api.github.com/repos/twbs/bootstrap/pulls?page=24&per_page=100&state=all\n",
      "https://api.github.com/repos/twbs/bootstrap/pulls?page=25&per_page=100&state=all\n",
      "https://api.github.com/repos/twbs/bootstrap/pulls?page=26&per_page=100&state=all\n",
      "https://api.github.com/repos/twbs/bootstrap/pulls?page=27&per_page=100&state=all\n",
      "https://api.github.com/repos/twbs/bootstrap/pulls?page=28&per_page=100&state=all\n",
      "https://api.github.com/repos/twbs/bootstrap/pulls?page=29&per_page=100&state=all\n"
     ]
    }
   ],
   "source": [
    "%run -i 'detectDuplicatePR.py'"
   ]
  },
  {
   "cell_type": "code",
   "execution_count": null,
   "metadata": {},
   "outputs": [],
   "source": []
  },
  {
   "cell_type": "code",
   "execution_count": null,
   "metadata": {},
   "outputs": [],
   "source": []
  }
 ],
 "metadata": {
  "kernelspec": {
   "display_name": "Python 3",
   "language": "python",
   "name": "python3"
  },
  "language_info": {
   "codemirror_mode": {
    "name": "ipython",
    "version": 3
   },
   "file_extension": ".py",
   "mimetype": "text/x-python",
   "name": "python",
   "nbconvert_exporter": "python",
   "pygments_lexer": "ipython3",
   "version": "3.4.3"
  }
 },
 "nbformat": 4,
 "nbformat_minor": 2
}
