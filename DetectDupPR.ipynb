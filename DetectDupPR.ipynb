{
 "cells": [
  {
   "cell_type": "markdown",
   "metadata": {},
   "source": [
    "# Detect duplicate pr"
   ]
  },
  {
   "cell_type": "code",
   "execution_count": null,
   "metadata": {},
   "outputs": [
    {
     "name": "stdout",
     "output_type": "stream",
     "text": [
      "text_sim_type = lsi\n",
      "code_sim_type = tfidf\n",
      "extract_sim_type = ori_and_overlap\n",
      "Model Data Save Path =  ok_text_lsi_code_tfidf_ori_and_overlap__commit_message\n",
      "--------------------------\n",
      "Loading Data\n",
      "Model Data Input= data/clf/first_msr_pairs.txt\n",
      "warning: feature vector already exists! data/clf/first_msr_pairs_feature_vector_ok_text_lsi_code_tfidf_ori_and_overlap__commit_message\n",
      "Model Data Input= data/clf/second_msr_pairs.txt\n",
      "warning: feature vector already exists! data/clf/second_msr_pairs_feature_vector_ok_text_lsi_code_tfidf_ori_and_overlap__commit_message\n",
      "Model Data Input= data/clf/consecutive_NonDupPR_pairs_training.txt\n",
      "warning: feature vector already exists! data/clf/consecutive_NonDupPR_pairs_training_feature_vector_ok_text_lsi_code_tfidf_ori_and_overlap__commit_message\n",
      "Model Data Input= data/clf/consecutive_NonDupPR_pairs_testing.txt\n",
      "warning: feature vector already exists! data/clf/consecutive_NonDupPR_pairs_testing_feature_vector_ok_text_lsi_code_tfidf_ori_and_overlap__commit_message\n",
      "--------------------------\n",
      "Size of Dataset: training_set 103293 testing_set 105431 feature_length= 10\n",
      "------ model:  boost ------\n",
      "n_estimators: 400 max_depth: 3\n",
      "0.9907350993600483\n",
      "Mean Accuracy: 0.9911316405990648\n",
      "Average precision score: 0.5494\n",
      "F1 score: 0.5701\n",
      "0.9911316405990648\t0.5494427714202064\t0.5701149425287355\n"
     ]
    },
    {
     "data": {
      "text/plain": [
       "<Figure size 640x480 with 1 Axes>"
      ]
     },
     "metadata": {},
     "output_type": "display_data"
    },
    {
     "data": {
      "text/plain": [
       "<Figure size 640x480 with 1 Axes>"
      ]
     },
     "metadata": {},
     "output_type": "display_data"
    },
    {
     "name": "stdout",
     "output_type": "stream",
     "text": [
      "get open PRs from repo: jquery/jquery\n",
      "/DATA/luyao/PRCandidate/candidate_jquery.jquery.txt\n",
      "start fetch new list for  jquery/jquery pull\n",
      "c6207ff05e6b29301240af52e9b2537e7052d013\n",
      "https://api.github.com/repos/jquery/jquery/pulls?page=1&state=all&per_page=100\n",
      "ba97bbf669ffc33b0a9f80385990c9b3071bb8b9\n",
      "https://api.github.com/repos/jquery/jquery/pulls?page=2&state=all&per_page=100\n",
      "99930f8dd927136564caf1bc3c863407a09e2cb2\n",
      "https://api.github.com/repos/jquery/jquery/pulls?page=3&state=all&per_page=100\n",
      "27281ad87b5feb2fa239805f896f33664673fbce\n",
      "https://api.github.com/repos/jquery/jquery/pulls?page=4&state=all&per_page=100\n",
      "3e223c5db86f45a1bf937b4b60b790c6d0220c6e\n",
      "https://api.github.com/repos/jquery/jquery/pulls?page=5&state=all&per_page=100\n",
      "7bdee6dd545e93a139f4ea9997b90c1aaab6af05\n",
      "https://api.github.com/repos/jquery/jquery/pulls?page=6&state=all&per_page=100\n",
      "c6207ff05e6b29301240af52e9b2537e7052d013\n",
      "https://api.github.com/repos/jquery/jquery/pulls?page=7&state=all&per_page=100\n",
      "ba97bbf669ffc33b0a9f80385990c9b3071bb8b9\n",
      "https://api.github.com/repos/jquery/jquery/pulls?page=8&state=all&per_page=100\n",
      "99930f8dd927136564caf1bc3c863407a09e2cb2\n",
      "https://api.github.com/repos/jquery/jquery/pulls?page=9&state=all&per_page=100\n",
      "27281ad87b5feb2fa239805f896f33664673fbce\n",
      "https://api.github.com/repos/jquery/jquery/pulls?page=10&state=all&per_page=100\n",
      "3e223c5db86f45a1bf937b4b60b790c6d0220c6e\n",
      "https://api.github.com/repos/jquery/jquery/pulls?page=11&state=all&per_page=100\n",
      "7bdee6dd545e93a139f4ea9997b90c1aaab6af05\n",
      "https://api.github.com/repos/jquery/jquery/pulls?page=12&state=all&per_page=100\n",
      "c6207ff05e6b29301240af52e9b2537e7052d013\n",
      "https://api.github.com/repos/jquery/jquery/pulls?page=13&state=all&per_page=100\n",
      "ba97bbf669ffc33b0a9f80385990c9b3071bb8b9\n",
      "https://api.github.com/repos/jquery/jquery/pulls?page=14&state=all&per_page=100\n",
      "99930f8dd927136564caf1bc3c863407a09e2cb2\n",
      "https://api.github.com/repos/jquery/jquery/pulls?page=15&state=all&per_page=100\n",
      "27281ad87b5feb2fa239805f896f33664673fbce\n",
      "https://api.github.com/repos/jquery/jquery/pulls?page=16&state=all&per_page=100\n",
      "3e223c5db86f45a1bf937b4b60b790c6d0220c6e\n",
      "https://api.github.com/repos/jquery/jquery/pulls?page=17&state=all&per_page=100\n",
      "7bdee6dd545e93a139f4ea9997b90c1aaab6af05\n",
      "https://api.github.com/repos/jquery/jquery/pulls?page=18&state=all&per_page=100\n",
      "c6207ff05e6b29301240af52e9b2537e7052d013\n",
      "https://api.github.com/repos/jquery/jquery/pulls?page=19&state=all&per_page=100\n",
      "ba97bbf669ffc33b0a9f80385990c9b3071bb8b9\n",
      "https://api.github.com/repos/jquery/jquery/pulls?page=20&state=all&per_page=100\n",
      "99930f8dd927136564caf1bc3c863407a09e2cb2\n",
      "https://api.github.com/repos/jquery/jquery/pulls?page=21&state=all&per_page=100\n",
      "27281ad87b5feb2fa239805f896f33664673fbce\n",
      "https://api.github.com/repos/jquery/jquery/pulls?page=22&state=all&per_page=100\n",
      "3e223c5db86f45a1bf937b4b60b790c6d0220c6e\n",
      "https://api.github.com/repos/jquery/jquery/pulls?page=23&state=all&per_page=100\n",
      "7bdee6dd545e93a139f4ea9997b90c1aaab6af05\n",
      "https://api.github.com/repos/jquery/jquery/pulls?page=24&state=all&per_page=100\n",
      "c6207ff05e6b29301240af52e9b2537e7052d013\n",
      "https://api.github.com/repos/jquery/jquery/pulls?page=25&state=all&per_page=100\n",
      "finish write /DATA/luyao/pr_data/jquery/jquery/pull_list.json to file....\n",
      "length : 2499\n",
      "current pr :4406 created_at: 2019-05-20T19:40:21Z in repo:jquery/jquery\n",
      "current pr :4405 created_at: 2019-05-19T20:01:04Z in repo:jquery/jquery\n",
      "current pr :4395 created_at: 2019-05-13T21:07:38Z in repo:jquery/jquery\n",
      "current pr :4379 created_at: 2019-04-30T13:48:01Z in repo:jquery/jquery\n",
      "current pr :4123 created_at: 2018-07-10T17:58:44Z in repo:jquery/jquery\n",
      "older than a year 3902stop\n",
      "length of pr candidates: 5\n",
      "analyzing  jquery/jquery 4406\n",
      "init nlp model with jquery/jquery data!\n",
      "model already exists!\n",
      "init nlp model for text successfully!\n",
      "model already exists!\n",
      "init nlp model for code successfully!\n",
      "start fetch new list for  jquery/jquery pull\n",
      "c6207ff05e6b29301240af52e9b2537e7052d013\n",
      "https://api.github.com/repos/jquery/jquery/pulls?page=1&state=all&per_page=100\n",
      "ba97bbf669ffc33b0a9f80385990c9b3071bb8b9\n",
      "https://api.github.com/repos/jquery/jquery/pulls?page=2&state=all&per_page=100\n",
      "99930f8dd927136564caf1bc3c863407a09e2cb2\n",
      "https://api.github.com/repos/jquery/jquery/pulls?page=3&state=all&per_page=100\n",
      "27281ad87b5feb2fa239805f896f33664673fbce\n",
      "https://api.github.com/repos/jquery/jquery/pulls?page=4&state=all&per_page=100\n",
      "3e223c5db86f45a1bf937b4b60b790c6d0220c6e\n",
      "https://api.github.com/repos/jquery/jquery/pulls?page=5&state=all&per_page=100\n",
      "7bdee6dd545e93a139f4ea9997b90c1aaab6af05\n",
      "https://api.github.com/repos/jquery/jquery/pulls?page=6&state=all&per_page=100\n",
      "c6207ff05e6b29301240af52e9b2537e7052d013\n",
      "https://api.github.com/repos/jquery/jquery/pulls?page=7&state=all&per_page=100\n",
      "ba97bbf669ffc33b0a9f80385990c9b3071bb8b9\n",
      "https://api.github.com/repos/jquery/jquery/pulls?page=8&state=all&per_page=100\n",
      "99930f8dd927136564caf1bc3c863407a09e2cb2\n",
      "https://api.github.com/repos/jquery/jquery/pulls?page=9&state=all&per_page=100\n",
      "27281ad87b5feb2fa239805f896f33664673fbce\n",
      "https://api.github.com/repos/jquery/jquery/pulls?page=10&state=all&per_page=100\n",
      "3e223c5db86f45a1bf937b4b60b790c6d0220c6e\n",
      "https://api.github.com/repos/jquery/jquery/pulls?page=11&state=all&per_page=100\n",
      "7bdee6dd545e93a139f4ea9997b90c1aaab6af05\n",
      "https://api.github.com/repos/jquery/jquery/pulls?page=12&state=all&per_page=100\n",
      "c6207ff05e6b29301240af52e9b2537e7052d013\n",
      "https://api.github.com/repos/jquery/jquery/pulls?page=13&state=all&per_page=100\n",
      "ba97bbf669ffc33b0a9f80385990c9b3071bb8b9\n"
     ]
    }
   ],
   "source": [
    "%run -i 'detectDuplicatePR.py'"
   ]
  },
  {
   "cell_type": "code",
   "execution_count": null,
   "metadata": {},
   "outputs": [],
   "source": []
  },
  {
   "cell_type": "code",
   "execution_count": null,
   "metadata": {},
   "outputs": [],
   "source": []
  }
 ],
 "metadata": {
  "kernelspec": {
   "display_name": "Python 3",
   "language": "python",
   "name": "python3"
  },
  "language_info": {
   "codemirror_mode": {
    "name": "ipython",
    "version": 3
   },
   "file_extension": ".py",
   "mimetype": "text/x-python",
   "name": "python",
   "nbconvert_exporter": "python",
   "pygments_lexer": "ipython3",
   "version": "3.4.3"
  }
 },
 "nbformat": 4,
 "nbformat_minor": 2
}
