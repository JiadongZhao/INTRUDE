{
 "cells": [
  {
   "cell_type": "markdown",
   "metadata": {},
   "source": [
    "# Detect duplicate pr"
   ]
  },
  {
   "cell_type": "code",
   "execution_count": 1,
   "metadata": {},
   "outputs": [
    {
     "name": "stdout",
     "output_type": "stream",
     "text": [
      "monitored_repoList_filePath:data/test_repo_list.txt\n",
      "LOCAL_DATA_PATH:/DATA/luyao\n",
      "PR_candidate_List_filePath_prefix:/DATA/luyao/PRCandidate/candidate_\n",
      "LOCAL_DATA_PATH:/DATA/luyao\n",
      "text_sim_type = lsi\n",
      "code_sim_type = tfidf\n",
      "extract_sim_type = ori_and_overlap\n",
      "Model Data Save Path =  ok_text_lsi_code_tfidf_ori_and_overlap__commit_message\n",
      "--------------------------\n",
      "Loading Data\n",
      "Model Data Input= data/clf/first_msr_pairs.txt\n",
      "warning: feature vector already exists! data/clf/first_msr_pairs_feature_vector_ok_text_lsi_code_tfidf_ori_and_overlap__commit_message\n",
      "Model Data Input= data/clf/second_msr_pairs.txt\n",
      "warning: feature vector already exists! data/clf/second_msr_pairs_feature_vector_ok_text_lsi_code_tfidf_ori_and_overlap__commit_message\n",
      "Model Data Input= data/clf/consecutive_NonDupPR_pairs_training.txt\n",
      "warning: feature vector already exists! data/clf/consecutive_NonDupPR_pairs_training_feature_vector_ok_text_lsi_code_tfidf_ori_and_overlap__commit_message\n",
      "Model Data Input= data/clf/consecutive_NonDupPR_pairs_testing.txt\n",
      "warning: feature vector already exists! data/clf/consecutive_NonDupPR_pairs_testing_feature_vector_ok_text_lsi_code_tfidf_ori_and_overlap__commit_message\n",
      "--------------------------\n",
      "Size of Dataset: training_set 103293 testing_set 105431 feature_length= 10\n",
      "------ model:  boost ------\n",
      "n_estimators: 400 max_depth: 3\n",
      "0.9907350993600483\n",
      "Mean Accuracy: 0.9911316405990648\n",
      "Average precision score: 0.5494\n",
      "F1 score: 0.5701\n",
      "0.9911316405990648\t0.5494427714202064\t0.5701149425287355\n"
     ]
    },
    {
     "data": {
      "text/plain": [
       "<Figure size 640x480 with 1 Axes>"
      ]
     },
     "metadata": {},
     "output_type": "display_data"
    },
    {
     "data": {
      "text/plain": [
       "<Figure size 640x480 with 1 Axes>"
      ]
     },
     "metadata": {},
     "output_type": "display_data"
    },
    {
     "name": "stdout",
     "output_type": "stream",
     "text": [
      "jquery/jquery\n",
      "/DATA/luyao/PRCandidate/candidate_jquery.jquery.txt\n",
      "start fetch new list for  jquery/jquery pull\n",
      "finish write /DATA/luyao/pr_data/jquery/jquery/pull_list.json to file....\n",
      "length : 30\n",
      "current pr :4406 created_at: 2019-05-20T19:40:21Z in repo:jquery/jquery\n",
      "current pr :4405 created_at: 2019-05-19T20:01:04Z in repo:jquery/jquery\n",
      "current pr :4395 created_at: 2019-05-13T21:07:38Z in repo:jquery/jquery\n",
      "current pr :4379 created_at: 2019-04-30T13:48:01Z in repo:jquery/jquery\n",
      "length of pr candidates: 4\n",
      "analyzing  jquery/jquery 4379\n",
      "init nlp model with jquery/jquery data!\n",
      "model already exists!\n",
      "init nlp model for text successfully!\n",
      "model already exists!\n",
      "init nlp model for code successfully!\n",
      "start fetch new list for  jquery/jquery pull\n",
      "finish write /DATA/luyao/pr_data/jquery/jquery/pull_list.json to file....\n",
      "more than 50 changed files\n"
     ]
    },
    {
     "ename": "NameError",
     "evalue": "name 'num1' is not defined",
     "output_type": "error",
     "traceback": [
      "\u001b[0;31m---------------------------------------------------------------------------\u001b[0m",
      "\u001b[0;31mNameError\u001b[0m                                 Traceback (most recent call last)",
      "\u001b[0;32m~/shuruiz/INTRUDE/detectDuplicatePR.py\u001b[0m in \u001b[0;36m<module>\u001b[0;34m()\u001b[0m\n\u001b[1;32m     90\u001b[0m \u001b[0;34m\u001b[0m\u001b[0m\n\u001b[1;32m     91\u001b[0m \u001b[0;32mif\u001b[0m \u001b[0m__name__\u001b[0m \u001b[0;34m==\u001b[0m \u001b[0;34m\"__main__\"\u001b[0m\u001b[0;34m:\u001b[0m\u001b[0;34m\u001b[0m\u001b[0m\n\u001b[0;32m---> 92\u001b[0;31m     \u001b[0mwork\u001b[0m\u001b[0;34m(\u001b[0m\u001b[0;34m)\u001b[0m\u001b[0;34m\u001b[0m\u001b[0m\n\u001b[0m",
      "\u001b[0;32m~/shuruiz/INTRUDE/detectDuplicatePR.py\u001b[0m in \u001b[0;36mwork\u001b[0;34m()\u001b[0m\n\u001b[1;32m     81\u001b[0m             \u001b[0;32mcontinue\u001b[0m\u001b[0;34m\u001b[0m\u001b[0m\n\u001b[1;32m     82\u001b[0m \u001b[0;34m\u001b[0m\u001b[0m\n\u001b[0;32m---> 83\u001b[0;31m         \u001b[0mdupPR_id\u001b[0m\u001b[0;34m,\u001b[0m \u001b[0msimilarity\u001b[0m\u001b[0;34m,\u001b[0m\u001b[0mfeature_vector\u001b[0m \u001b[0;34m=\u001b[0m \u001b[0mdetect\u001b[0m\u001b[0;34m.\u001b[0m\u001b[0mdetect_one\u001b[0m\u001b[0;34m(\u001b[0m\u001b[0mrepo\u001b[0m\u001b[0;34m,\u001b[0m \u001b[0mpr_id\u001b[0m\u001b[0;34m)\u001b[0m\u001b[0;34m\u001b[0m\u001b[0m\n\u001b[0m\u001b[1;32m     84\u001b[0m \u001b[0;34m\u001b[0m\u001b[0m\n\u001b[1;32m     85\u001b[0m         \u001b[0;32mwith\u001b[0m \u001b[0mopen\u001b[0m\u001b[0;34m(\u001b[0m\u001b[0minit\u001b[0m\u001b[0;34m.\u001b[0m\u001b[0mdupPR_result_filePath_prefix\u001b[0m \u001b[0;34m+\u001b[0m \u001b[0mrepo\u001b[0m\u001b[0;34m.\u001b[0m\u001b[0mreplace\u001b[0m\u001b[0;34m(\u001b[0m\u001b[0;34m'/'\u001b[0m\u001b[0;34m,\u001b[0m \u001b[0;34m'.'\u001b[0m\u001b[0;34m)\u001b[0m \u001b[0;34m+\u001b[0m \u001b[0;34m'.txt'\u001b[0m\u001b[0;34m,\u001b[0m \u001b[0;34m'a'\u001b[0m\u001b[0;34m)\u001b[0m \u001b[0;32mas\u001b[0m \u001b[0moutf\u001b[0m\u001b[0;34m:\u001b[0m\u001b[0;34m\u001b[0m\u001b[0m\n",
      "\u001b[0;32m~/shuruiz/INTRUDE/detect.py\u001b[0m in \u001b[0;36mdetect_one\u001b[0;34m(repo, num)\u001b[0m\n\u001b[1;32m    206\u001b[0m         \u001b[0;32mreturn\u001b[0m \u001b[0;34m-\u001b[0m\u001b[0;36m1\u001b[0m\u001b[0;34m,\u001b[0m \u001b[0;34m-\u001b[0m\u001b[0;36m1\u001b[0m\u001b[0;34m\u001b[0m\u001b[0m\n\u001b[1;32m    207\u001b[0m     \u001b[0;32melse\u001b[0m\u001b[0;34m:\u001b[0m\u001b[0;34m\u001b[0m\u001b[0m\n\u001b[0;32m--> 208\u001b[0;31m         \u001b[0mprint\u001b[0m\u001b[0;34m(\u001b[0m\u001b[0mrepo\u001b[0m\u001b[0;34m+\u001b[0m \u001b[0;34m\" \"\u001b[0m \u001b[0;34m+\u001b[0m \u001b[0mnum1\u001b[0m \u001b[0;34m+\u001b[0m \u001b[0;34m\" \"\u001b[0m \u001b[0;34m+\u001b[0m \u001b[0mret\u001b[0m\u001b[0;34m[\u001b[0m\u001b[0;36m0\u001b[0m\u001b[0;34m]\u001b[0m\u001b[0;34m[\u001b[0m\u001b[0;36m0\u001b[0m\u001b[0;34m]\u001b[0m\u001b[0;34m+\u001b[0m \u001b[0;34m\" \"\u001b[0m \u001b[0;34m+\u001b[0m \u001b[0mret\u001b[0m\u001b[0;34m[\u001b[0m\u001b[0;36m0\u001b[0m\u001b[0;34m]\u001b[0m\u001b[0;34m[\u001b[0m\u001b[0;36m1\u001b[0m\u001b[0;34m]\u001b[0m\u001b[0;34m)\u001b[0m\u001b[0;34m\u001b[0m\u001b[0m\n\u001b[0m\u001b[1;32m    209\u001b[0m         \u001b[0;32mreturn\u001b[0m \u001b[0mret\u001b[0m\u001b[0;34m[\u001b[0m\u001b[0;36m0\u001b[0m\u001b[0;34m]\u001b[0m\u001b[0;34m[\u001b[0m\u001b[0;36m0\u001b[0m\u001b[0;34m]\u001b[0m\u001b[0;34m,\u001b[0m \u001b[0mret\u001b[0m\u001b[0;34m[\u001b[0m\u001b[0;36m0\u001b[0m\u001b[0;34m]\u001b[0m\u001b[0;34m[\u001b[0m\u001b[0;36m1\u001b[0m\u001b[0;34m]\u001b[0m\u001b[0;34m,\u001b[0m \u001b[0mfeature_vector\u001b[0m\u001b[0;34m\u001b[0m\u001b[0m\n\u001b[1;32m    210\u001b[0m         \u001b[0;31m# return ret[0][0], ret[0][1]\u001b[0m\u001b[0;34m\u001b[0m\u001b[0;34m\u001b[0m\u001b[0m\n",
      "\u001b[0;31mNameError\u001b[0m: name 'num1' is not defined"
     ]
    }
   ],
   "source": [
    "%run -i 'detectDuplicatePR.py'"
   ]
  },
  {
   "cell_type": "code",
   "execution_count": null,
   "metadata": {},
   "outputs": [],
   "source": []
  },
  {
   "cell_type": "code",
   "execution_count": null,
   "metadata": {},
   "outputs": [],
   "source": []
  }
 ],
 "metadata": {
  "kernelspec": {
   "display_name": "Python 3",
   "language": "python",
   "name": "python3"
  },
  "language_info": {
   "codemirror_mode": {
    "name": "ipython",
    "version": 3
   },
   "file_extension": ".py",
   "mimetype": "text/x-python",
   "name": "python",
   "nbconvert_exporter": "python",
   "pygments_lexer": "ipython3",
   "version": "3.4.3"
  }
 },
 "nbformat": 4,
 "nbformat_minor": 2
}
