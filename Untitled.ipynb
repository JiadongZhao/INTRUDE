{
 "cells": [
  {
   "cell_type": "code",
   "execution_count": null,
   "metadata": {},
   "outputs": [
    {
     "name": "stdout",
     "output_type": "stream",
     "text": [
      "finish write /DATA/shurui/pr_data/servo/servo/19524/api.json to file....\n",
      "finish write /DATA/shurui/pr_data/servo/servo/20193/api.json to file....\n",
      "finish write /DATA/shurui/pr_data/symfony/symfony/11656/api.json to file....\n",
      "finish write /DATA/shurui/pr_data/symfony/symfony/16788/api.json to file....\n",
      "finish write /DATA/shurui/pr_data/symfony/symfony-docs/2283/api.json to file....\n",
      "finish write /DATA/shurui/pr_data/symfony/symfony-docs/351/api.json to file....\n",
      "finish write /DATA/shurui/pr_data/servo/servo/20298/api.json to file....\n",
      "finish write /DATA/shurui/pr_data/servo/servo/12008/api.json to file....\n",
      "finish write /DATA/shurui/pr_data/mozilla-b2g/gaia/31821/api.json to file....\n",
      "finish write /DATA/shurui/pr_data/mozilla-b2g/gaia/27579/api.json to file....\n",
      "finish write /DATA/shurui/pr_data/twbs/bootstrap/16089/api.json to file....\n",
      "finish write /DATA/shurui/pr_data/twbs/bootstrap/18108/api.json to file....\n",
      "finish write /DATA/shurui/pr_data/servo/servo/17705/api.json to file....\n",
      "finish write /DATA/shurui/pr_data/servo/servo/3414/api.json to file....\n",
      "finish write /DATA/shurui/pr_data/twbs/bootstrap/17626/api.json to file....\n",
      "finish write /DATA/shurui/pr_data/twbs/bootstrap/24677/api.json to file....\n",
      "finish write /DATA/shurui/pr_data/scikit-learn/scikit-learn/7944/api.json to file....\n",
      "finish write /DATA/shurui/pr_data/scikit-learn/scikit-learn/7315/api.json to file....\n",
      "finish write /DATA/shurui/pr_data/kubernetes/kubernetes/35855/api.json to file....\n",
      "finish write /DATA/shurui/pr_data/kubernetes/kubernetes/45529/api.json to file....\n",
      "finish write /DATA/shurui/pr_data/mozilla-b2g/gaia/23784/api.json to file....\n",
      "finish write /DATA/shurui/pr_data/mozilla-b2g/gaia/29303/api.json to file....\n",
      "finish write /DATA/shurui/pr_data/symfony/symfony-docs/7792/api.json to file....\n",
      "finish write /DATA/shurui/pr_data/symfony/symfony-docs/9741/api.json to file....\n",
      "finish write /DATA/shurui/pr_data/pydata/pandas/5397/api.json to file....\n",
      "finish write /DATA/shurui/pr_data/pydata/pandas/19757/api.json to file....\n",
      "finish write /DATA/shurui/pr_data/servo/servo/10488/api.json to file....\n",
      "finish write /DATA/shurui/pr_data/servo/servo/7128/api.json to file....\n"
     ]
    }
   ],
   "source": [
    "%run -i 'get_pr_pair_description.py' "
   ]
  },
  {
   "cell_type": "code",
   "execution_count": null,
   "metadata": {},
   "outputs": [],
   "source": []
  },
  {
   "cell_type": "code",
   "execution_count": null,
   "metadata": {
    "collapsed": true
   },
   "outputs": [],
   "source": []
  }
 ],
 "metadata": {
  "kernelspec": {
   "display_name": "Python 3",
   "language": "python",
   "name": "python3"
  },
  "language_info": {
   "codemirror_mode": {
    "name": "ipython",
    "version": 3
   },
   "file_extension": ".py",
   "mimetype": "text/x-python",
   "name": "python",
   "nbconvert_exporter": "python",
   "pygments_lexer": "ipython3",
   "version": "3.4.3"
  }
 },
 "nbformat": 4,
 "nbformat_minor": 2
}
